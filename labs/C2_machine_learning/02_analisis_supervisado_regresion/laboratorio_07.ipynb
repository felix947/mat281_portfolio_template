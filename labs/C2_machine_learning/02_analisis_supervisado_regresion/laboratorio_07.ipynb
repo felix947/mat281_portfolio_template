{
 "cells": [
  {
   "cell_type": "markdown",
   "metadata": {},
   "source": [
    "<img src=\"images/usm.jpg\" width=\"480\" height=\"240\" align=\"left\"/>"
   ]
  },
  {
   "cell_type": "markdown",
   "metadata": {},
   "source": [
    "# MAT281 - Laboratorios N°01\n",
    "\n",
    "## Objetivos del laboratorio\n",
    "\n",
    "* Reforzar conceptos básicos de regresión lineal."
   ]
  },
  {
   "cell_type": "markdown",
   "metadata": {},
   "source": [
    "## Contenidos\n",
    "\n",
    "* [Problema 01](#p1)\n"
   ]
  },
  {
   "cell_type": "markdown",
   "metadata": {},
   "source": [
    "<a id='p1'></a>\n",
    "## I.- Problema 01\n",
    "\n",
    "\n",
    "<img src=\"https://upload.wikimedia.org/wikipedia/commons/thumb/b/b6/Anscombe.svg/1200px-Anscombe.svg.png\" width=\"360\" height=\"360\" align=\"center\"/>\n",
    "\n"
   ]
  },
  {
   "cell_type": "markdown",
   "metadata": {},
   "source": [
    "El **cuarteto de Anscombe** comprende cuatro conjuntos de datos que tienen las mismas propiedades estadísticas, pero que evidentemente son distintas al inspeccionar sus gráficos respectivos.\n",
    "\n",
    "Cada conjunto consiste de once puntos (x, y) y fueron construidos por el estadístico F. J. Anscombe. El cuarteto es una demostración de la importancia de mirar gráficamente un conjunto de datos antes de analizarlos."
   ]
  },
  {
   "cell_type": "code",
   "execution_count": 2,
   "metadata": {},
   "outputs": [],
   "source": [
    "import os\n",
    "import numpy as np\n",
    "import pandas as pd\n",
    "import matplotlib.pyplot as plt\n",
    "import seaborn as sns\n",
    "\n",
    "%matplotlib inline\n",
    "sns.set_palette(\"deep\", desat=.6)\n",
    "sns.set(rc={'figure.figsize':(11.7,8.27)})"
   ]
  },
  {
   "cell_type": "code",
   "execution_count": 3,
   "metadata": {},
   "outputs": [
    {
     "data": {
      "text/html": [
       "<div>\n",
       "<style scoped>\n",
       "    .dataframe tbody tr th:only-of-type {\n",
       "        vertical-align: middle;\n",
       "    }\n",
       "\n",
       "    .dataframe tbody tr th {\n",
       "        vertical-align: top;\n",
       "    }\n",
       "\n",
       "    .dataframe thead th {\n",
       "        text-align: right;\n",
       "    }\n",
       "</style>\n",
       "<table border=\"1\" class=\"dataframe\">\n",
       "  <thead>\n",
       "    <tr style=\"text-align: right;\">\n",
       "      <th></th>\n",
       "      <th>x</th>\n",
       "      <th>y</th>\n",
       "      <th>grupo</th>\n",
       "    </tr>\n",
       "  </thead>\n",
       "  <tbody>\n",
       "    <tr>\n",
       "      <td>0</td>\n",
       "      <td>10</td>\n",
       "      <td>8.04</td>\n",
       "      <td>Grupo_1</td>\n",
       "    </tr>\n",
       "    <tr>\n",
       "      <td>1</td>\n",
       "      <td>8</td>\n",
       "      <td>6.95</td>\n",
       "      <td>Grupo_1</td>\n",
       "    </tr>\n",
       "    <tr>\n",
       "      <td>2</td>\n",
       "      <td>13</td>\n",
       "      <td>7.58</td>\n",
       "      <td>Grupo_1</td>\n",
       "    </tr>\n",
       "    <tr>\n",
       "      <td>3</td>\n",
       "      <td>9</td>\n",
       "      <td>8.81</td>\n",
       "      <td>Grupo_1</td>\n",
       "    </tr>\n",
       "    <tr>\n",
       "      <td>4</td>\n",
       "      <td>11</td>\n",
       "      <td>8.33</td>\n",
       "      <td>Grupo_1</td>\n",
       "    </tr>\n",
       "  </tbody>\n",
       "</table>\n",
       "</div>"
      ],
      "text/plain": [
       "    x     y    grupo\n",
       "0  10  8.04  Grupo_1\n",
       "1   8  6.95  Grupo_1\n",
       "2  13  7.58  Grupo_1\n",
       "3   9  8.81  Grupo_1\n",
       "4  11  8.33  Grupo_1"
      ]
     },
     "execution_count": 3,
     "metadata": {},
     "output_type": "execute_result"
    }
   ],
   "source": [
    "# cargar datos\n",
    "df = pd.read_csv(os.path.join(\"data\",\"anscombe.csv\"), sep=\",\")\n",
    "df.head()"
   ]
  },
  {
   "cell_type": "markdown",
   "metadata": {},
   "source": [
    "Basado en la información presentada responda las siguientes preguntas:\n",
    "\n",
    "1. Gráfique mediante un gráfico tipo **scatter** cada grupo. A simple vista, ¿ los grupos son muy distintos entre si?.\n",
    "2. Realice un resumen de las medidas estadísticas más significativas ocuapando el comando **describe** para cada grupo. Interprete.\n",
    "3. Realice un ajuste lineal para cada grupo. Además, grafique los resultados de la regresión lineal para cada grupo. Interprete.\n",
    "4. Calcule los resultados de las métricas para cada grupo. Interprete.\n",
    "5. Es claro que el ajuste lineal para algunos grupos no es el correcto. Existen varias formas de solucionar este problema (eliminar outliers, otros modelos, etc.). Identifique una estrategia para que el modelo de regresión lineal ajuste de mejor manera e implemente otros modelos en los casos que encuentre necesario.  "
   ]
  },
  {
   "cell_type": "markdown",
   "metadata": {},
   "source": [
    "# 1."
   ]
  },
  {
   "cell_type": "code",
   "execution_count": 10,
   "metadata": {},
   "outputs": [
    {
     "data": {
      "image/png": "[encoded data removed]",
      "text/plain": [
       "<Figure size 720x576 with 1 Axes>"
      ]
     },
     "metadata": {},
     "output_type": "display_data"
    }
   ],
   "source": [
    "\n",
    "sns.set(rc={'figure.figsize':(10,8)})\n",
    "\n",
    "sns.scatterplot(\n",
    "    x='x',\n",
    "    y='y',\n",
    "    data=df,\n",
    "    hue='grupo'\n",
    ")  \n",
    "plt.show()\n",
    "#son bastante distintos entre sí"
   ]
  },
  {
   "cell_type": "markdown",
   "metadata": {},
   "source": [
    "# 2."
   ]
  },
  {
   "cell_type": "code",
   "execution_count": 39,
   "metadata": {},
   "outputs": [
    {
     "data": {
      "text/html": [
       "<div>\n",
       "<style scoped>\n",
       "    .dataframe tbody tr th:only-of-type {\n",
       "        vertical-align: middle;\n",
       "    }\n",
       "\n",
       "    .dataframe tbody tr th {\n",
       "        vertical-align: top;\n",
       "    }\n",
       "\n",
       "    .dataframe thead th {\n",
       "        text-align: right;\n",
       "    }\n",
       "</style>\n",
       "<table border=\"1\" class=\"dataframe\">\n",
       "  <thead>\n",
       "    <tr style=\"text-align: right;\">\n",
       "      <th></th>\n",
       "      <th>x</th>\n",
       "      <th>y</th>\n",
       "    </tr>\n",
       "  </thead>\n",
       "  <tbody>\n",
       "    <tr>\n",
       "      <td>count</td>\n",
       "      <td>11.000000</td>\n",
       "      <td>11.000000</td>\n",
       "    </tr>\n",
       "    <tr>\n",
       "      <td>mean</td>\n",
       "      <td>9.000000</td>\n",
       "      <td>7.500909</td>\n",
       "    </tr>\n",
       "    <tr>\n",
       "      <td>std</td>\n",
       "      <td>3.316625</td>\n",
       "      <td>2.031568</td>\n",
       "    </tr>\n",
       "    <tr>\n",
       "      <td>min</td>\n",
       "      <td>4.000000</td>\n",
       "      <td>4.260000</td>\n",
       "    </tr>\n",
       "    <tr>\n",
       "      <td>25%</td>\n",
       "      <td>6.500000</td>\n",
       "      <td>6.315000</td>\n",
       "    </tr>\n",
       "    <tr>\n",
       "      <td>50%</td>\n",
       "      <td>9.000000</td>\n",
       "      <td>7.580000</td>\n",
       "    </tr>\n",
       "    <tr>\n",
       "      <td>75%</td>\n",
       "      <td>11.500000</td>\n",
       "      <td>8.570000</td>\n",
       "    </tr>\n",
       "    <tr>\n",
       "      <td>max</td>\n",
       "      <td>14.000000</td>\n",
       "      <td>10.840000</td>\n",
       "    </tr>\n",
       "  </tbody>\n",
       "</table>\n",
       "</div>"
      ],
      "text/plain": [
       "               x          y\n",
       "count  11.000000  11.000000\n",
       "mean    9.000000   7.500909\n",
       "std     3.316625   2.031568\n",
       "min     4.000000   4.260000\n",
       "25%     6.500000   6.315000\n",
       "50%     9.000000   7.580000\n",
       "75%    11.500000   8.570000\n",
       "max    14.000000  10.840000"
      ]
     },
     "execution_count": 39,
     "metadata": {},
     "output_type": "execute_result"
    }
   ],
   "source": [
    "df_grupo_1= df[df['grupo'] == 'Grupo_1']   \n",
    "df_grupo_2= df[df['grupo'] == 'Grupo_2']   \n",
    "df_grupo_3= df[df['grupo'] == 'Grupo_3']   \n",
    "df_grupo_4= df[df['grupo'] == 'Grupo_4']\n",
    "df_grupo_1.describe()"
   ]
  },
  {
   "cell_type": "code",
   "execution_count": 35,
   "metadata": {},
   "outputs": [
    {
     "data": {
      "text/html": [
       "<div>\n",
       "<style scoped>\n",
       "    .dataframe tbody tr th:only-of-type {\n",
       "        vertical-align: middle;\n",
       "    }\n",
       "\n",
       "    .dataframe tbody tr th {\n",
       "        vertical-align: top;\n",
       "    }\n",
       "\n",
       "    .dataframe thead th {\n",
       "        text-align: right;\n",
       "    }\n",
       "</style>\n",
       "<table border=\"1\" class=\"dataframe\">\n",
       "  <thead>\n",
       "    <tr style=\"text-align: right;\">\n",
       "      <th></th>\n",
       "      <th>x</th>\n",
       "      <th>y</th>\n",
       "    </tr>\n",
       "  </thead>\n",
       "  <tbody>\n",
       "    <tr>\n",
       "      <td>count</td>\n",
       "      <td>11.000000</td>\n",
       "      <td>11.000000</td>\n",
       "    </tr>\n",
       "    <tr>\n",
       "      <td>mean</td>\n",
       "      <td>9.000000</td>\n",
       "      <td>7.500909</td>\n",
       "    </tr>\n",
       "    <tr>\n",
       "      <td>std</td>\n",
       "      <td>3.316625</td>\n",
       "      <td>2.031657</td>\n",
       "    </tr>\n",
       "    <tr>\n",
       "      <td>min</td>\n",
       "      <td>4.000000</td>\n",
       "      <td>3.100000</td>\n",
       "    </tr>\n",
       "    <tr>\n",
       "      <td>25%</td>\n",
       "      <td>6.500000</td>\n",
       "      <td>6.695000</td>\n",
       "    </tr>\n",
       "    <tr>\n",
       "      <td>50%</td>\n",
       "      <td>9.000000</td>\n",
       "      <td>8.140000</td>\n",
       "    </tr>\n",
       "    <tr>\n",
       "      <td>75%</td>\n",
       "      <td>11.500000</td>\n",
       "      <td>8.950000</td>\n",
       "    </tr>\n",
       "    <tr>\n",
       "      <td>max</td>\n",
       "      <td>14.000000</td>\n",
       "      <td>9.260000</td>\n",
       "    </tr>\n",
       "  </tbody>\n",
       "</table>\n",
       "</div>"
      ],
      "text/plain": [
       "               x          y\n",
       "count  11.000000  11.000000\n",
       "mean    9.000000   7.500909\n",
       "std     3.316625   2.031657\n",
       "min     4.000000   3.100000\n",
       "25%     6.500000   6.695000\n",
       "50%     9.000000   8.140000\n",
       "75%    11.500000   8.950000\n",
       "max    14.000000   9.260000"
      ]
     },
     "execution_count": 35,
     "metadata": {},
     "output_type": "execute_result"
    }
   ],
   "source": [
    "df_grupo_2.describe()"
   ]
  },
  {
   "cell_type": "code",
   "execution_count": 36,
   "metadata": {},
   "outputs": [
    {
     "data": {
      "text/html": [
       "<div>\n",
       "<style scoped>\n",
       "    .dataframe tbody tr th:only-of-type {\n",
       "        vertical-align: middle;\n",
       "    }\n",
       "\n",
       "    .dataframe tbody tr th {\n",
       "        vertical-align: top;\n",
       "    }\n",
       "\n",
       "    .dataframe thead th {\n",
       "        text-align: right;\n",
       "    }\n",
       "</style>\n",
       "<table border=\"1\" class=\"dataframe\">\n",
       "  <thead>\n",
       "    <tr style=\"text-align: right;\">\n",
       "      <th></th>\n",
       "      <th>x</th>\n",
       "      <th>y</th>\n",
       "    </tr>\n",
       "  </thead>\n",
       "  <tbody>\n",
       "    <tr>\n",
       "      <td>count</td>\n",
       "      <td>11.000000</td>\n",
       "      <td>11.000000</td>\n",
       "    </tr>\n",
       "    <tr>\n",
       "      <td>mean</td>\n",
       "      <td>9.000000</td>\n",
       "      <td>7.500000</td>\n",
       "    </tr>\n",
       "    <tr>\n",
       "      <td>std</td>\n",
       "      <td>3.316625</td>\n",
       "      <td>2.030424</td>\n",
       "    </tr>\n",
       "    <tr>\n",
       "      <td>min</td>\n",
       "      <td>4.000000</td>\n",
       "      <td>5.390000</td>\n",
       "    </tr>\n",
       "    <tr>\n",
       "      <td>25%</td>\n",
       "      <td>6.500000</td>\n",
       "      <td>6.250000</td>\n",
       "    </tr>\n",
       "    <tr>\n",
       "      <td>50%</td>\n",
       "      <td>9.000000</td>\n",
       "      <td>7.110000</td>\n",
       "    </tr>\n",
       "    <tr>\n",
       "      <td>75%</td>\n",
       "      <td>11.500000</td>\n",
       "      <td>7.980000</td>\n",
       "    </tr>\n",
       "    <tr>\n",
       "      <td>max</td>\n",
       "      <td>14.000000</td>\n",
       "      <td>12.740000</td>\n",
       "    </tr>\n",
       "  </tbody>\n",
       "</table>\n",
       "</div>"
      ],
      "text/plain": [
       "               x          y\n",
       "count  11.000000  11.000000\n",
       "mean    9.000000   7.500000\n",
       "std     3.316625   2.030424\n",
       "min     4.000000   5.390000\n",
       "25%     6.500000   6.250000\n",
       "50%     9.000000   7.110000\n",
       "75%    11.500000   7.980000\n",
       "max    14.000000  12.740000"
      ]
     },
     "execution_count": 36,
     "metadata": {},
     "output_type": "execute_result"
    }
   ],
   "source": [
    "df_grupo_3.describe()"
   ]
  },
  {
   "cell_type": "code",
   "execution_count": 37,
   "metadata": {},
   "outputs": [
    {
     "data": {
      "text/html": [
       "<div>\n",
       "<style scoped>\n",
       "    .dataframe tbody tr th:only-of-type {\n",
       "        vertical-align: middle;\n",
       "    }\n",
       "\n",
       "    .dataframe tbody tr th {\n",
       "        vertical-align: top;\n",
       "    }\n",
       "\n",
       "    .dataframe thead th {\n",
       "        text-align: right;\n",
       "    }\n",
       "</style>\n",
       "<table border=\"1\" class=\"dataframe\">\n",
       "  <thead>\n",
       "    <tr style=\"text-align: right;\">\n",
       "      <th></th>\n",
       "      <th>x</th>\n",
       "      <th>y</th>\n",
       "    </tr>\n",
       "  </thead>\n",
       "  <tbody>\n",
       "    <tr>\n",
       "      <td>count</td>\n",
       "      <td>11.000000</td>\n",
       "      <td>11.000000</td>\n",
       "    </tr>\n",
       "    <tr>\n",
       "      <td>mean</td>\n",
       "      <td>9.000000</td>\n",
       "      <td>7.500909</td>\n",
       "    </tr>\n",
       "    <tr>\n",
       "      <td>std</td>\n",
       "      <td>3.316625</td>\n",
       "      <td>2.030579</td>\n",
       "    </tr>\n",
       "    <tr>\n",
       "      <td>min</td>\n",
       "      <td>8.000000</td>\n",
       "      <td>5.250000</td>\n",
       "    </tr>\n",
       "    <tr>\n",
       "      <td>25%</td>\n",
       "      <td>8.000000</td>\n",
       "      <td>6.170000</td>\n",
       "    </tr>\n",
       "    <tr>\n",
       "      <td>50%</td>\n",
       "      <td>8.000000</td>\n",
       "      <td>7.040000</td>\n",
       "    </tr>\n",
       "    <tr>\n",
       "      <td>75%</td>\n",
       "      <td>8.000000</td>\n",
       "      <td>8.190000</td>\n",
       "    </tr>\n",
       "    <tr>\n",
       "      <td>max</td>\n",
       "      <td>19.000000</td>\n",
       "      <td>12.500000</td>\n",
       "    </tr>\n",
       "  </tbody>\n",
       "</table>\n",
       "</div>"
      ],
      "text/plain": [
       "               x          y\n",
       "count  11.000000  11.000000\n",
       "mean    9.000000   7.500909\n",
       "std     3.316625   2.030579\n",
       "min     8.000000   5.250000\n",
       "25%     8.000000   6.170000\n",
       "50%     8.000000   7.040000\n",
       "75%     8.000000   8.190000\n",
       "max    19.000000  12.500000"
      ]
     },
     "execution_count": 37,
     "metadata": {},
     "output_type": "execute_result"
    }
   ],
   "source": [
    "df_grupo_4.describe()"
   ]
  },
  {
   "cell_type": "markdown",
   "metadata": {},
   "source": [
    "# 3 y 4"
   ]
  },
  {
   "cell_type": "code",
   "execution_count": 41,
   "metadata": {},
   "outputs": [
    {
     "name": "stdout",
     "output_type": "stream",
     "text": [
      "Separando informacion:\n",
      "\n",
      "numero de filas data original :  11\n",
      "numero de filas train set     :  8\n",
      "numero de filas test set      :  3\n",
      "El mejor ajuste lineal viene dado por la recta: \n",
      "\n",
      "     f(x) = 3.47 + 0.47*y\n"
     ]
    }
   ],
   "source": [
    "#Grupo1\n",
    "from sklearn import datasets\n",
    "from sklearn.model_selection import train_test_split\n",
    "from sklearn.linear_model import LinearRegression\n",
    "X = df_grupo_1[['x']] # we only take the first two features.\n",
    "y = df_grupo_1['y']\n",
    "\n",
    "X_train, X_test, y_train, y_test = train_test_split(X, y, test_size=0.2, random_state=42)\n",
    "\n",
    "# print rows train and test sets\n",
    "print('Separando informacion:\\n')\n",
    "print('numero de filas data original : ',len(X))\n",
    "print('numero de filas train set     : ',len(X_train))\n",
    "print('numero de filas test set      : ',len(X_test))\n",
    "\n",
    "model_rl = LinearRegression()\n",
    "model_rl.fit(X_train, y_train) \n",
    "beta_0 = round(model_rl.intercept_,2)\n",
    "beta_1 = round(model_rl.coef_[0],2)\n",
    "print(f\"El mejor ajuste lineal viene dado por la recta: \\n\\n     \\\n",
    "f(x) = {beta_0} + {beta_1}*y\")"
   ]
  },
  {
   "cell_type": "code",
   "execution_count": 43,
   "metadata": {},
   "outputs": [
    {
     "data": {
      "image/png": "[encoded data removed]",
      "text/plain": [
       "<Figure size 792x612 with 1 Axes>"
      ]
     },
     "metadata": {},
     "output_type": "display_data"
    }
   ],
   "source": [
    "# graficos con seaborn\n",
    "        \n",
    "beta_0 = model_rl.intercept_\n",
    "beta_1 = model_rl.coef_[0]\n",
    "        \n",
    "x_range = np.arange(0.1,14,0.1)\n",
    "        \n",
    "df_plot = pd.DataFrame({'x':x_range,\n",
    "                        'y_true':[beta_0 + beta_1*n for n in x_range]})\n",
    "  \n",
    "df = pd.DataFrame({'x':X['x'],\n",
    "                           'y_true':y})\n",
    "        \n",
    "fig, ax = plt.subplots(figsize=(11, 8.5))\n",
    "        \n",
    "        \n",
    "sns.scatterplot(x='x', y='y_true', data=df, ax=ax)\n",
    "sns.lineplot(x='x', y='y_true', data=df_plot,ax=ax,color=\"red\")\n",
    "\n",
    "plt.xlabel('x')\n",
    "plt.ylabel('y')\n",
    "plt.show()"
   ]
  },
  {
   "cell_type": "code",
   "execution_count": 44,
   "metadata": {},
   "outputs": [
    {
     "name": "stdout",
     "output_type": "stream",
     "text": [
      "\n",
      "Metricas para el regresor consumo_litros_milla:\n",
      "\n",
      "      mae     mse    rmse   mape   maape   wmape   mmape   smape      r2\n",
      "0  0.7161  1.2576  1.1214  0.142  0.1354  0.0941  0.1182  0.1196  0.7204\n"
     ]
    }
   ],
   "source": [
    "from metrics_regression import *\n",
    "from sklearn.metrics import r2_score\n",
    "\n",
    "# ejemplo \n",
    "df_temp = pd.DataFrame(\n",
    "    {\n",
    "        'y':y_test,\n",
    "        'yhat': model_rl.predict(X_test)\n",
    "        }\n",
    ")\n",
    "\n",
    "df_metrics = summary_metrics(df_temp)\n",
    "df_metrics['r2'] =  round(r2_score(y_test, model_rl.predict(X_test)),4)\n",
    "print('\\nMetricas para el regresor consumo_litros_milla:\\n')\n",
    "print(df_metrics)\n",
    "#como vemos el r2 es cercano a 1 y los errores la mayoria son menor a 1 por lo tanto podemos decir que es un buen modelo"
   ]
  },
  {
   "cell_type": "code",
   "execution_count": 45,
   "metadata": {},
   "outputs": [
    {
     "name": "stdout",
     "output_type": "stream",
     "text": [
      "Separando informacion:\n",
      "\n",
      "numero de filas data original :  11\n",
      "numero de filas train set     :  8\n",
      "numero de filas test set      :  3\n",
      "El mejor ajuste lineal viene dado por la recta: \n",
      "\n",
      "     f(x) = 1.92 + 0.63*y\n"
     ]
    }
   ],
   "source": [
    "#Grupo2\n",
    "from sklearn import datasets\n",
    "from sklearn.model_selection import train_test_split\n",
    "from sklearn.linear_model import LinearRegression\n",
    "X = df_grupo_2[['x']] # we only take the first two features.\n",
    "y = df_grupo_2['y']\n",
    "\n",
    "X_train, X_test, y_train, y_test = train_test_split(X, y, test_size=0.2, random_state=42)\n",
    "\n",
    "# print rows train and test sets\n",
    "print('Separando informacion:\\n')\n",
    "print('numero de filas data original : ',len(X))\n",
    "print('numero de filas train set     : ',len(X_train))\n",
    "print('numero de filas test set      : ',len(X_test))\n",
    "\n",
    "model_rl = LinearRegression()\n",
    "model_rl.fit(X_train, y_train) \n",
    "beta_0 = round(model_rl.intercept_,2)\n",
    "beta_1 = round(model_rl.coef_[0],2)\n",
    "print(f\"El mejor ajuste lineal viene dado por la recta: \\n\\n     \\\n",
    "f(x) = {beta_0} + {beta_1}*y\")"
   ]
  },
  {
   "cell_type": "code",
   "execution_count": 52,
   "metadata": {
    "scrolled": true
   },
   "outputs": [
    {
     "data": {
      "image/png": "[encoded data removed]",
      "text/plain": [
       "<Figure size 792x612 with 1 Axes>"
      ]
     },
     "metadata": {},
     "output_type": "display_data"
    }
   ],
   "source": [
    "# graficos con seaborn\n",
    "        \n",
    "beta_0 = model_rl.intercept_\n",
    "beta_1 = model_rl.coef_[0]\n",
    "        \n",
    "x_range = np.arange(0.1,14,0.1)\n",
    "        \n",
    "df_plot = pd.DataFrame({'x':x_range,\n",
    "                        'y_true':[beta_0 + beta_1*n for n in x_range]})\n",
    "  \n",
    "df = pd.DataFrame({'x':X['x'],\n",
    "                           'y_true':y})\n",
    "        \n",
    "fig, ax = plt.subplots(figsize=(11, 8.5))\n",
    "        \n",
    "        \n",
    "sns.scatterplot(x='x', y='y_true', data=df, ax=ax)\n",
    "sns.lineplot(x='x', y='y_true', data=df_plot,ax=ax,color=\"red\")\n",
    "\n",
    "plt.xlabel('x')\n",
    "plt.ylabel('y')\n",
    "plt.show()"
   ]
  },
  {
   "cell_type": "code",
   "execution_count": 47,
   "metadata": {},
   "outputs": [
    {
     "name": "stdout",
     "output_type": "stream",
     "text": [
      "\n",
      "Metricas para el regresor consumo_litros_milla:\n",
      "\n",
      "      mae     mse    rmse    mape   maape   wmape   mmape   smape      r2\n",
      "0  1.4986  2.8504  1.6883  0.1851  0.1813  0.1835  0.1647  0.1752 -3.8207\n"
     ]
    }
   ],
   "source": [
    "from metrics_regression import *\n",
    "from sklearn.metrics import r2_score\n",
    "\n",
    "# ejemplo \n",
    "df_temp = pd.DataFrame(\n",
    "    {\n",
    "        'y':y_test,\n",
    "        'yhat': model_rl.predict(X_test)\n",
    "        }\n",
    ")\n",
    "\n",
    "df_metrics = summary_metrics(df_temp)\n",
    "df_metrics['r2'] =  round(r2_score(y_test, model_rl.predict(X_test)),4)\n",
    "print('\\nMetricas para el regresor consumo_litros_milla:\\n')\n",
    "print(df_metrics)\n",
    "#como vemos el r2 es mayor que 1 y los errores la mayoria son menor a 1 por lo tanto podemos decir que es un buen\n",
    "#modelo pero los datos no estan relacionados linealmente"
   ]
  },
  {
   "cell_type": "code",
   "execution_count": 49,
   "metadata": {},
   "outputs": [
    {
     "name": "stdout",
     "output_type": "stream",
     "text": [
      "Separando informacion:\n",
      "\n",
      "numero de filas data original :  11\n",
      "numero de filas train set     :  8\n",
      "numero de filas test set      :  3\n",
      "El mejor ajuste lineal viene dado por la recta: \n",
      "\n",
      "     f(x) = 2.46 + 0.59*y\n"
     ]
    }
   ],
   "source": [
    "#Grupo3\n",
    "from sklearn import datasets\n",
    "from sklearn.model_selection import train_test_split\n",
    "from sklearn.linear_model import LinearRegression\n",
    "X = df_grupo_3[['x']] # we only take the first two features.\n",
    "y = df_grupo_3['y']\n",
    "\n",
    "X_train, X_test, y_train, y_test = train_test_split(X, y, test_size=0.2, random_state=42)\n",
    "\n",
    "# print rows train and test sets\n",
    "print('Separando informacion:\\n')\n",
    "print('numero de filas data original : ',len(X))\n",
    "print('numero de filas train set     : ',len(X_train))\n",
    "print('numero de filas test set      : ',len(X_test))\n",
    "\n",
    "model_rl = LinearRegression()\n",
    "model_rl.fit(X_train, y_train) \n",
    "beta_0 = round(model_rl.intercept_,2)\n",
    "beta_1 = round(model_rl.coef_[0],2)\n",
    "print(f\"El mejor ajuste lineal viene dado por la recta: \\n\\n     \\\n",
    "f(x) = {beta_0} + {beta_1}*y\")"
   ]
  },
  {
   "cell_type": "code",
   "execution_count": 50,
   "metadata": {},
   "outputs": [
    {
     "data": {
      "image/png": "[encoded data removed]",
      "text/plain": [
       "<Figure size 792x612 with 1 Axes>"
      ]
     },
     "metadata": {},
     "output_type": "display_data"
    }
   ],
   "source": [
    "# graficos con seaborn\n",
    "        \n",
    "beta_0 = model_rl.intercept_\n",
    "beta_1 = model_rl.coef_[0]\n",
    "        \n",
    "x_range = np.arange(0.1,14,0.1)\n",
    "        \n",
    "df_plot = pd.DataFrame({'x':x_range,\n",
    "                        'y_true':[beta_0 + beta_1*n for n in x_range]})\n",
    "  \n",
    "df = pd.DataFrame({'x':X['x'],\n",
    "                           'y_true':y})\n",
    "        \n",
    "fig, ax = plt.subplots(figsize=(11, 8.5))\n",
    "        \n",
    "        \n",
    "sns.scatterplot(x='x', y='y_true', data=df, ax=ax)\n",
    "sns.lineplot(x='x', y='y_true', data=df_plot,ax=ax,color=\"red\")\n",
    "\n",
    "plt.xlabel('x')\n",
    "plt.ylabel('y')\n",
    "plt.show()"
   ]
  },
  {
   "cell_type": "code",
   "execution_count": 51,
   "metadata": {},
   "outputs": [
    {
     "name": "stdout",
     "output_type": "stream",
     "text": [
      "\n",
      "Metricas para el regresor consumo_litros_milla:\n",
      "\n",
      "      mae     mse    rmse    mape   maape   wmape   mmape   smape      r2\n",
      "0  0.9813  1.4548  1.2062  0.1196  0.1184  0.1296  0.1065  0.1105 -0.4807\n"
     ]
    }
   ],
   "source": [
    "from metrics_regression import *\n",
    "from sklearn.metrics import r2_score\n",
    "\n",
    "# ejemplo \n",
    "df_temp = pd.DataFrame(\n",
    "    {\n",
    "        'y':y_test,\n",
    "        'yhat': model_rl.predict(X_test)\n",
    "        }\n",
    ")\n",
    "\n",
    "df_metrics = summary_metrics(df_temp)\n",
    "df_metrics['r2'] =  round(r2_score(y_test, model_rl.predict(X_test)),4)\n",
    "print('\\nMetricas para el regresor consumo_litros_milla:\\n')\n",
    "print(df_metrics)\n",
    "#como vemos el r2 es cercano 1 y los errores la mayoria son menor a 1 por lo tanto podemos decir que es un buen\n",
    "#modelo y que los datos si estan relacionados linealmente"
   ]
  },
  {
   "cell_type": "code",
   "execution_count": 53,
   "metadata": {},
   "outputs": [
    {
     "name": "stdout",
     "output_type": "stream",
     "text": [
      "Separando informacion:\n",
      "\n",
      "numero de filas data original :  11\n",
      "numero de filas train set     :  8\n",
      "numero de filas test set      :  3\n",
      "El mejor ajuste lineal viene dado por la recta: \n",
      "\n",
      "     f(x) = 2.87 + 0.51*y\n"
     ]
    }
   ],
   "source": [
    "#Grupo4\n",
    "from sklearn import datasets\n",
    "from sklearn.model_selection import train_test_split\n",
    "from sklearn.linear_model import LinearRegression\n",
    "X = df_grupo_4[['x']] # we only take the first two features.\n",
    "y = df_grupo_4['y']\n",
    "\n",
    "X_train, X_test, y_train, y_test = train_test_split(X, y, test_size=0.2, random_state=42)\n",
    "\n",
    "# print rows train and test sets\n",
    "print('Separando informacion:\\n')\n",
    "print('numero de filas data original : ',len(X))\n",
    "print('numero de filas train set     : ',len(X_train))\n",
    "print('numero de filas test set      : ',len(X_test))\n",
    "\n",
    "model_rl = LinearRegression()\n",
    "model_rl.fit(X_train, y_train) \n",
    "beta_0 = round(model_rl.intercept_,2)\n",
    "beta_1 = round(model_rl.coef_[0],2)\n",
    "print(f\"El mejor ajuste lineal viene dado por la recta: \\n\\n     \\\n",
    "f(x) = {beta_0} + {beta_1}*y\")"
   ]
  },
  {
   "cell_type": "code",
   "execution_count": 54,
   "metadata": {},
   "outputs": [
    {
     "data": {
      "image/png": "[encoded data removed]",
      "text/plain": [
       "<Figure size 792x612 with 1 Axes>"
      ]
     },
     "metadata": {},
     "output_type": "display_data"
    }
   ],
   "source": [
    "# graficos con seaborn\n",
    "        \n",
    "beta_0 = model_rl.intercept_\n",
    "beta_1 = model_rl.coef_[0]\n",
    "        \n",
    "x_range = np.arange(0.1,14,0.1)\n",
    "        \n",
    "df_plot = pd.DataFrame({'x':x_range,\n",
    "                        'y_true':[beta_0 + beta_1*n for n in x_range]})\n",
    "  \n",
    "df = pd.DataFrame({'x':X['x'],\n",
    "                           'y_true':y})\n",
    "        \n",
    "fig, ax = plt.subplots(figsize=(11, 8.5))\n",
    "        \n",
    "        \n",
    "sns.scatterplot(x='x', y='y_true', data=df, ax=ax)\n",
    "sns.lineplot(x='x', y='y_true', data=df_plot,ax=ax,color=\"red\")\n",
    "\n",
    "plt.xlabel('x')\n",
    "plt.ylabel('y')\n",
    "plt.show()"
   ]
  },
  {
   "cell_type": "code",
   "execution_count": 55,
   "metadata": {},
   "outputs": [
    {
     "name": "stdout",
     "output_type": "stream",
     "text": [
      "\n",
      "Metricas para el regresor consumo_litros_milla:\n",
      "\n",
      "      mae     mse    rmse    mape   maape   wmape   mmape   smape      r2\n",
      "0  0.4814  0.3671  0.6059  0.0644  0.0642  0.0671  0.0568  0.0668 -0.2071\n"
     ]
    }
   ],
   "source": [
    "from metrics_regression import *\n",
    "from sklearn.metrics import r2_score\n",
    "\n",
    "# ejemplo \n",
    "df_temp = pd.DataFrame(\n",
    "    {\n",
    "        'y':y_test,\n",
    "        'yhat': model_rl.predict(X_test)\n",
    "        }\n",
    ")\n",
    "\n",
    "df_metrics = summary_metrics(df_temp)\n",
    "df_metrics['r2'] =  round(r2_score(y_test, model_rl.predict(X_test)),4)\n",
    "print('\\nMetricas para el regresor consumo_litros_milla:\\n')\n",
    "print(df_metrics)\n",
    "#como vemos el r2 es cercano 1 y los errores la mayoria son menor a 1 pero segun la grafica los datos están\n",
    "#relacionados linealmente pero de manera inversa"
   ]
  },
  {
   "cell_type": "markdown",
   "metadata": {},
   "source": [
    "# 5."
   ]
  },
  {
   "cell_type": "code",
   "execution_count": 56,
   "metadata": {},
   "outputs": [],
   "source": [
    "# En el caso del Grupo 2 es claro que tiene forma de parabola asi que es preferible ocupar otros metodos\n",
    "# En el caso del Grupo 3 hay un dato que se escapa del comportamiento asi que es preferible ocupar otro método\n",
    "# que no sea el de una regresión lineal, o tomar ese dato como uno en particular\n",
    "# En el caso del Grupo 4, los datos estan relacionados pero de manera inversa, lo preferible es realizar la regresion\n",
    "# intercambiando los ejes"
   ]
  },
  {
   "cell_type": "code",
   "execution_count": null,
   "metadata": {},
   "outputs": [],
   "source": []
  }
 ],
 "metadata": {
  "kernelspec": {
   "display_name": "Python 3",
   "language": "python",
   "name": "python3"
  },
  "language_info": {
   "codemirror_mode": {
    "name": "ipython",
    "version": 3
   },
   "file_extension": ".py",
   "mimetype": "text/x-python",
   "name": "python",
   "nbconvert_exporter": "python",
   "pygments_lexer": "ipython3",
   "version": "3.7.4"
  }
 },
 "nbformat": 4,
 "nbformat_minor": 4
}
