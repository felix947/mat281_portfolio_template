{
 "cells": [
  {
   "cell_type": "markdown",
   "metadata": {},
   "source": [
    "<img src=\"images/usm.jpg\" width=\"480\" height=\"240\" align=\"left\"/>"
   ]
  },
  {
   "cell_type": "markdown",
   "metadata": {},
   "source": [
    "# MAT281 - Laboratorio N°02\n",
    "\n",
    "## Objetivos del laboratorio\n",
    "\n",
    "* Reforzar conceptos básicos de clasificación."
   ]
  },
  {
   "cell_type": "markdown",
   "metadata": {},
   "source": [
    "## Contenidos\n",
    "\n",
    "* [Problema 01](#p1)\n"
   ]
  },
  {
   "cell_type": "markdown",
   "metadata": {},
   "source": [
    "<a id='p1'></a>\n",
    "## I.- Problema 01\n",
    "\n",
    "\n",
    "<img src=\"https://www.xenonstack.com/wp-content/uploads/xenonstack-credit-card-fraud-detection.png\" width=\"360\" height=\"360\" align=\"center\"/>\n",
    "\n",
    "\n",
    "El conjunto de datos se denomina `creditcard.csv` y consta de varias columnas con información acerca del fraude de tarjetas de crédito, en donde la columna **Class** corresponde a: 0 si no es un fraude y 1 si es un fraude.\n",
    "\n",
    "En este ejercicio se trabajará el problemas de  clases desbalancedas. Veamos las primeras cinco filas dle conjunto de datos:"
   ]
  },
  {
   "cell_type": "code",
   "execution_count": 1,
   "metadata": {},
   "outputs": [],
   "source": [
    "import os\n",
    "import numpy as np\n",
    "import pandas as pd\n",
    "import matplotlib.pyplot as plt\n",
    "import seaborn as sns\n",
    "\n",
    "from sklearn import datasets\n",
    "from sklearn.model_selection import train_test_split\n",
    "\n",
    "from sklearn.metrics import confusion_matrix,accuracy_score,recall_score,precision_score,f1_score\n",
    "from sklearn.dummy import DummyClassifier\n",
    "from sklearn.linear_model import LogisticRegression\n",
    "from sklearn.ensemble import RandomForestClassifier \n",
    "\n",
    "%matplotlib inline\n",
    "sns.set_palette(\"deep\", desat=.6)\n",
    "sns.set(rc={'figure.figsize':(11.7,8.27)})"
   ]
  },
  {
   "cell_type": "code",
   "execution_count": 2,
   "metadata": {},
   "outputs": [
    {
     "data": {
      "text/html": [
       "<div>\n",
       "<style scoped>\n",
       "    .dataframe tbody tr th:only-of-type {\n",
       "        vertical-align: middle;\n",
       "    }\n",
       "\n",
       "    .dataframe tbody tr th {\n",
       "        vertical-align: top;\n",
       "    }\n",
       "\n",
       "    .dataframe thead th {\n",
       "        text-align: right;\n",
       "    }\n",
       "</style>\n",
       "<table border=\"1\" class=\"dataframe\">\n",
       "  <thead>\n",
       "    <tr style=\"text-align: right;\">\n",
       "      <th></th>\n",
       "      <th>Time</th>\n",
       "      <th>V1</th>\n",
       "      <th>V2</th>\n",
       "      <th>V3</th>\n",
       "      <th>V4</th>\n",
       "      <th>V5</th>\n",
       "      <th>V6</th>\n",
       "      <th>V7</th>\n",
       "      <th>V8</th>\n",
       "      <th>V9</th>\n",
       "      <th>...</th>\n",
       "      <th>V21</th>\n",
       "      <th>V22</th>\n",
       "      <th>V23</th>\n",
       "      <th>V24</th>\n",
       "      <th>V25</th>\n",
       "      <th>V26</th>\n",
       "      <th>V27</th>\n",
       "      <th>V28</th>\n",
       "      <th>Amount</th>\n",
       "      <th>Class</th>\n",
       "    </tr>\n",
       "  </thead>\n",
       "  <tbody>\n",
       "    <tr>\n",
       "      <td>0</td>\n",
       "      <td>0.0</td>\n",
       "      <td>-1.359807</td>\n",
       "      <td>-0.072781</td>\n",
       "      <td>2.536347</td>\n",
       "      <td>1.378155</td>\n",
       "      <td>-0.338321</td>\n",
       "      <td>0.462388</td>\n",
       "      <td>0.239599</td>\n",
       "      <td>0.098698</td>\n",
       "      <td>0.363787</td>\n",
       "      <td>...</td>\n",
       "      <td>-0.018307</td>\n",
       "      <td>0.277838</td>\n",
       "      <td>-0.110474</td>\n",
       "      <td>0.066928</td>\n",
       "      <td>0.128539</td>\n",
       "      <td>-0.189115</td>\n",
       "      <td>0.133558</td>\n",
       "      <td>-0.021053</td>\n",
       "      <td>149.62</td>\n",
       "      <td>0</td>\n",
       "    </tr>\n",
       "    <tr>\n",
       "      <td>1</td>\n",
       "      <td>4.0</td>\n",
       "      <td>1.229658</td>\n",
       "      <td>0.141004</td>\n",
       "      <td>0.045371</td>\n",
       "      <td>1.202613</td>\n",
       "      <td>0.191881</td>\n",
       "      <td>0.272708</td>\n",
       "      <td>-0.005159</td>\n",
       "      <td>0.081213</td>\n",
       "      <td>0.464960</td>\n",
       "      <td>...</td>\n",
       "      <td>-0.167716</td>\n",
       "      <td>-0.270710</td>\n",
       "      <td>-0.154104</td>\n",
       "      <td>-0.780055</td>\n",
       "      <td>0.750137</td>\n",
       "      <td>-0.257237</td>\n",
       "      <td>0.034507</td>\n",
       "      <td>0.005168</td>\n",
       "      <td>4.99</td>\n",
       "      <td>0</td>\n",
       "    </tr>\n",
       "    <tr>\n",
       "      <td>2</td>\n",
       "      <td>10.0</td>\n",
       "      <td>1.249999</td>\n",
       "      <td>-1.221637</td>\n",
       "      <td>0.383930</td>\n",
       "      <td>-1.234899</td>\n",
       "      <td>-1.485419</td>\n",
       "      <td>-0.753230</td>\n",
       "      <td>-0.689405</td>\n",
       "      <td>-0.227487</td>\n",
       "      <td>-2.094011</td>\n",
       "      <td>...</td>\n",
       "      <td>-0.231809</td>\n",
       "      <td>-0.483285</td>\n",
       "      <td>0.084668</td>\n",
       "      <td>0.392831</td>\n",
       "      <td>0.161135</td>\n",
       "      <td>-0.354990</td>\n",
       "      <td>0.026416</td>\n",
       "      <td>0.042422</td>\n",
       "      <td>121.50</td>\n",
       "      <td>0</td>\n",
       "    </tr>\n",
       "    <tr>\n",
       "      <td>3</td>\n",
       "      <td>10.0</td>\n",
       "      <td>0.384978</td>\n",
       "      <td>0.616109</td>\n",
       "      <td>-0.874300</td>\n",
       "      <td>-0.094019</td>\n",
       "      <td>2.924584</td>\n",
       "      <td>3.317027</td>\n",
       "      <td>0.470455</td>\n",
       "      <td>0.538247</td>\n",
       "      <td>-0.558895</td>\n",
       "      <td>...</td>\n",
       "      <td>0.049924</td>\n",
       "      <td>0.238422</td>\n",
       "      <td>0.009130</td>\n",
       "      <td>0.996710</td>\n",
       "      <td>-0.767315</td>\n",
       "      <td>-0.492208</td>\n",
       "      <td>0.042472</td>\n",
       "      <td>-0.054337</td>\n",
       "      <td>9.99</td>\n",
       "      <td>0</td>\n",
       "    </tr>\n",
       "    <tr>\n",
       "      <td>4</td>\n",
       "      <td>12.0</td>\n",
       "      <td>1.103215</td>\n",
       "      <td>-0.040296</td>\n",
       "      <td>1.267332</td>\n",
       "      <td>1.289091</td>\n",
       "      <td>-0.735997</td>\n",
       "      <td>0.288069</td>\n",
       "      <td>-0.586057</td>\n",
       "      <td>0.189380</td>\n",
       "      <td>0.782333</td>\n",
       "      <td>...</td>\n",
       "      <td>-0.024612</td>\n",
       "      <td>0.196002</td>\n",
       "      <td>0.013802</td>\n",
       "      <td>0.103758</td>\n",
       "      <td>0.364298</td>\n",
       "      <td>-0.382261</td>\n",
       "      <td>0.092809</td>\n",
       "      <td>0.037051</td>\n",
       "      <td>12.99</td>\n",
       "      <td>0</td>\n",
       "    </tr>\n",
       "  </tbody>\n",
       "</table>\n",
       "<p>5 rows × 31 columns</p>\n",
       "</div>"
      ],
      "text/plain": [
       "   Time        V1        V2        V3        V4        V5        V6        V7  \\\n",
       "0   0.0 -1.359807 -0.072781  2.536347  1.378155 -0.338321  0.462388  0.239599   \n",
       "1   4.0  1.229658  0.141004  0.045371  1.202613  0.191881  0.272708 -0.005159   \n",
       "2  10.0  1.249999 -1.221637  0.383930 -1.234899 -1.485419 -0.753230 -0.689405   \n",
       "3  10.0  0.384978  0.616109 -0.874300 -0.094019  2.924584  3.317027  0.470455   \n",
       "4  12.0  1.103215 -0.040296  1.267332  1.289091 -0.735997  0.288069 -0.586057   \n",
       "\n",
       "         V8        V9  ...       V21       V22       V23       V24       V25  \\\n",
       "0  0.098698  0.363787  ... -0.018307  0.277838 -0.110474  0.066928  0.128539   \n",
       "1  0.081213  0.464960  ... -0.167716 -0.270710 -0.154104 -0.780055  0.750137   \n",
       "2 -0.227487 -2.094011  ... -0.231809 -0.483285  0.084668  0.392831  0.161135   \n",
       "3  0.538247 -0.558895  ...  0.049924  0.238422  0.009130  0.996710 -0.767315   \n",
       "4  0.189380  0.782333  ... -0.024612  0.196002  0.013802  0.103758  0.364298   \n",
       "\n",
       "        V26       V27       V28  Amount  Class  \n",
       "0 -0.189115  0.133558 -0.021053  149.62      0  \n",
       "1 -0.257237  0.034507  0.005168    4.99      0  \n",
       "2 -0.354990  0.026416  0.042422  121.50      0  \n",
       "3 -0.492208  0.042472 -0.054337    9.99      0  \n",
       "4 -0.382261  0.092809  0.037051   12.99      0  \n",
       "\n",
       "[5 rows x 31 columns]"
      ]
     },
     "execution_count": 2,
     "metadata": {},
     "output_type": "execute_result"
    }
   ],
   "source": [
    "# cargar datos\n",
    "df = pd.read_csv(os.path.join(\"data\",\"creditcard.csv\"), sep=\";\")\n",
    "df.head()"
   ]
  },
  {
   "cell_type": "markdown",
   "metadata": {},
   "source": [
    "Analicemos el total de fraudes respecto a los casos que nos son fraudes:\n"
   ]
  },
  {
   "cell_type": "code",
   "execution_count": 4,
   "metadata": {},
   "outputs": [
    {
     "data": {
      "text/html": [
       "<div>\n",
       "<style scoped>\n",
       "    .dataframe tbody tr th:only-of-type {\n",
       "        vertical-align: middle;\n",
       "    }\n",
       "\n",
       "    .dataframe tbody tr th {\n",
       "        vertical-align: top;\n",
       "    }\n",
       "\n",
       "    .dataframe thead th {\n",
       "        text-align: right;\n",
       "    }\n",
       "</style>\n",
       "<table border=\"1\" class=\"dataframe\">\n",
       "  <thead>\n",
       "    <tr style=\"text-align: right;\">\n",
       "      <th></th>\n",
       "      <th>fraude</th>\n",
       "      <th>total</th>\n",
       "      <th>porcentaje</th>\n",
       "    </tr>\n",
       "  </thead>\n",
       "  <tbody>\n",
       "    <tr>\n",
       "      <td>0</td>\n",
       "      <td>no</td>\n",
       "      <td>50000</td>\n",
       "      <td>99.025588</td>\n",
       "    </tr>\n",
       "    <tr>\n",
       "      <td>1</td>\n",
       "      <td>si</td>\n",
       "      <td>492</td>\n",
       "      <td>0.974412</td>\n",
       "    </tr>\n",
       "  </tbody>\n",
       "</table>\n",
       "</div>"
      ],
      "text/plain": [
       "  fraude  total  porcentaje\n",
       "0     no  50000   99.025588\n",
       "1     si    492    0.974412"
      ]
     },
     "execution_count": 4,
     "metadata": {},
     "output_type": "execute_result"
    }
   ],
   "source": [
    "# calcular proporciones\n",
    "df_count = pd.DataFrame()\n",
    "df_count[\"fraude\"] =[\"no\",\"si\"]\n",
    "df_count[\"total\"] = df[\"Class\"].value_counts() \n",
    "df_count[\"porcentaje\"] = 100*df_count[\"total\"] /df_count[\"total\"] .sum()\n",
    "\n",
    "df_count"
   ]
  },
  {
   "cell_type": "markdown",
   "metadata": {},
   "source": [
    "Se observa que menos del 1% corresponde a registros frudulentos. La pregunta que surgen son:\n",
    "\n",
    "* ¿ Cómo deben ser el conjunto de entrenamiento y de testeo?\n",
    "* ¿ Qué modelos ocupar?\n",
    "* ¿ Qué métricas ocupar?\n",
    "\n",
    "Por ejemplo, analicemos el modelos de regresión logística y apliquemos el procedimiento estándar:"
   ]
  },
  {
   "cell_type": "code",
   "execution_count": 5,
   "metadata": {},
   "outputs": [
    {
     "data": {
      "text/plain": [
       "0.9961181969420898"
      ]
     },
     "execution_count": 5,
     "metadata": {},
     "output_type": "execute_result"
    }
   ],
   "source": [
    "# datos \n",
    "y = df.Class\n",
    "X = df.drop('Class', axis=1)\n",
    "\n",
    "# split dataset\n",
    "X_train, X_test, y_train, y_test = train_test_split(X, y, test_size=0.25, random_state=27)\n",
    "\n",
    "\n",
    "# Creando el modelo\n",
    "lr = LogisticRegression(solver='liblinear').fit(X_train, y_train)\n",
    " \n",
    "# predecir\n",
    "lr_pred = lr.predict(X_test)\n",
    "\n",
    "# calcular accuracy\n",
    "accuracy_score(y_test, lr_pred)"
   ]
  },
  {
   "cell_type": "markdown",
   "metadata": {},
   "source": [
    "En general el modelo tiene un **accuracy** del 99,9%, es decir, un podría suponer que el modelo predice casi perfectamente, pero eso esta lejos de ser así.  Para ver por qué es necesario seguir los siguientes pasos:"
   ]
  },
  {
   "cell_type": "markdown",
   "metadata": {},
   "source": [
    "### 1. Cambiar la métrica de rendimiento\n",
    "\n",
    "El primer paso es comparar con distintas métricas, para eso ocupemos las 4 métricas clásicas abordadas en el curso:\n",
    "* accuracy\n",
    "* precision\n",
    "* recall\n",
    "* f-score\n",
    "\n",
    "En este punto deberá poner las métricas correspondientes y comentar sus resultados."
   ]
  },
  {
   "cell_type": "code",
   "execution_count": 6,
   "metadata": {},
   "outputs": [
    {
     "name": "stdout",
     "output_type": "stream",
     "text": [
      "\n",
      "Matriz de confusion:\n",
      " \n",
      "[[12471    16]\n",
      " [   33   103]]\n",
      "\n",
      "Metricas:\n",
      " \n",
      "accuracy:    0.9961181969420898\n",
      "recall:      0.7573529411764706\n",
      "precision:   0.865546218487395\n",
      "f-score:     0.807843137254902\n",
      "\n"
     ]
    }
   ],
   "source": [
    "# metrics\n",
    "y_true =  list(y_test)\n",
    "y_pred = list(lr.predict(X_test))\n",
    "\n",
    "print('\\nMatriz de confusion:\\n ')\n",
    "print(confusion_matrix(y_true,y_pred))\n",
    "\n",
    "print('\\nMetricas:\\n ')\n",
    "print('accuracy:   ',accuracy_score(y_test, lr_pred))\n",
    "print('recall:     ',recall_score(y_test, lr_pred))\n",
    "print('precision:  ',precision_score(y_test, lr_pred))\n",
    "print('f-score:    ',f1_score(y_test, lr_pred))\n",
    "print(\"\")"
   ]
  },
  {
   "cell_type": "markdown",
   "metadata": {},
   "source": [
    "# Como se puede observar al comparar las distintas metricas se obtiene que la que se ajusta mejor al model es accuracy pues esta mas cerca de 1"
   ]
  },
  {
   "cell_type": "markdown",
   "metadata": {},
   "source": [
    "### 2. Cambiar algoritmo\n",
    "\n",
    "El segundo paso es comparar con distintos modelos. Debe tener en cuenta que el modelo ocupaod resuelva el problema supervisado de clasificación.\n",
    "\n",
    "En este punto deberá ajustar un modelo de **random forest**, aplicar las métricas y comparar con el modelo de regresión logística."
   ]
  },
  {
   "cell_type": "code",
   "execution_count": 7,
   "metadata": {},
   "outputs": [],
   "source": [
    "# train model\n",
    "\n",
    "rfc =  None # algoritmo random forest"
   ]
  },
  {
   "cell_type": "code",
   "execution_count": 14,
   "metadata": {},
   "outputs": [
    {
     "ename": "TypeError",
     "evalue": "           Time        V1        V2        V3        V4        V5        V6  \\\n36230  135341.0  2.019507 -0.436526 -0.434142  0.341014 -0.493798 -0.067753   \n31292  122610.0 -1.068988  1.147186 -0.037115  0.125389 -1.994099  0.140953   \n38741  141464.0  1.301883 -1.573653 -0.256848  1.325248 -1.005549  1.000905   \n48627  166145.0  2.046230 -1.822283 -0.569176 -1.593819 -1.581916 -0.172874   \n43329  152398.0  2.049048  0.070610 -1.796058  0.246929  0.558640 -0.422549   \n...         ...       ...       ...       ...       ...       ...       ...   \n29989  119352.0  1.846650 -0.304091 -1.254162  0.324091  0.506258  0.349983   \n4848    34635.0 -0.438536  0.876662  1.195829 -0.385667  0.505422  0.356092   \n14879   60163.0 -1.430366 -0.301424  1.541842 -1.805653 -1.218083  0.741315   \n36680  136485.0  2.062016  0.017803 -1.041502  0.409546 -0.064367 -1.196602   \n5139    35361.0 -2.925289  1.717306  1.552626  0.806877 -2.622149  1.439451   \n\n             V7        V8        V9  ...       V21       V22       V23  \\\n36230 -0.707457  0.040262  1.242845  ...  0.141767  0.612780  0.176545   \n31292  0.349462  0.763858  0.345331  ...  0.141700  0.332633  0.250442   \n38741 -0.913529  0.444849  1.424007  ...  0.434279  0.578240 -0.102163   \n48627 -1.373331  0.033917 -1.161672  ... -0.316304 -0.700425  0.327948   \n43329  0.049635 -0.050097  0.313745  ... -0.334006 -0.912166  0.301111   \n...         ...       ...       ...  ...       ...       ...       ...   \n29989  0.059334  0.060285  0.473247  ... -0.128911 -0.141383  0.338862   \n4848   0.460962  0.313553 -0.491074  ... -0.211727 -0.580189 -0.098574   \n14879 -0.187137  0.831152 -1.453665  ...  0.694480  1.551169  0.242085   \n36680  0.249097 -0.389192  0.398178  ... -0.277732 -0.620350  0.329841   \n5139  -2.710608 -0.503682 -0.371312  ...  1.911840 -1.060340  0.186262   \n\n            V24       V25       V26       V27       V28  Amount  Class  \n36230  0.637765 -0.228368  0.544869 -0.022532 -0.042002    5.92      0  \n31292 -0.124695 -1.289771  0.103359 -0.114645  0.052508  245.90      0  \n38741  0.139848 -0.425651 -0.635094  0.015543  0.026336  322.00      0  \n48627 -0.541054 -0.650498 -0.482843  0.015904 -0.032814  113.90      0  \n43329  0.219783 -0.268750  0.171098 -0.069574 -0.044018    1.98      0  \n...         ...       ...       ...       ...       ...     ...    ...  \n29989 -0.929406 -0.424661  0.363736 -0.023155 -0.066140   41.86      0  \n4848  -0.847851 -0.211641  0.137218  0.272144  0.097363    3.08      0  \n14879 -0.253779  0.072771 -0.148210  0.191527  0.083472  198.00      0  \n36680  0.072127 -0.267749  0.192204 -0.064594 -0.057790    1.98      0  \n5139   0.285835  0.482487 -0.062089  0.407516  0.074829   20.00      0  \n\n[37869 rows x 31 columns] is not an estimator instance.",
     "output_type": "error",
     "traceback": [
      "\u001b[0;31m---------------------------------------------------------------------------\u001b[0m",
      "\u001b[0;31mTypeError\u001b[0m                                 Traceback (most recent call last)",
      "\u001b[0;32m<ipython-input-14-cc3620774849>\u001b[0m in \u001b[0;36m<module>\u001b[0;34m\u001b[0m\n\u001b[1;32m      2\u001b[0m \u001b[0;34m\u001b[0m\u001b[0m\n\u001b[1;32m      3\u001b[0m \u001b[0my_true\u001b[0m \u001b[0;34m=\u001b[0m  \u001b[0mlist\u001b[0m\u001b[0;34m(\u001b[0m\u001b[0my_test\u001b[0m\u001b[0;34m)\u001b[0m\u001b[0;34m\u001b[0m\u001b[0;34m\u001b[0m\u001b[0m\n\u001b[0;32m----> 4\u001b[0;31m \u001b[0my_pred\u001b[0m \u001b[0;34m=\u001b[0m \u001b[0mlist\u001b[0m\u001b[0;34m(\u001b[0m\u001b[0mRandomForestClassifier\u001b[0m\u001b[0;34m.\u001b[0m\u001b[0mpredict_proba\u001b[0m\u001b[0;34m(\u001b[0m\u001b[0mX\u001b[0m\u001b[0;34m,\u001b[0m\u001b[0mX_test\u001b[0m\u001b[0;34m)\u001b[0m\u001b[0;34m)\u001b[0m \u001b[0;31m# predicciones con random forest\u001b[0m\u001b[0;34m\u001b[0m\u001b[0;34m\u001b[0m\u001b[0m\n\u001b[0m\u001b[1;32m      5\u001b[0m \u001b[0;34m\u001b[0m\u001b[0m\n\u001b[1;32m      6\u001b[0m \u001b[0;34m\u001b[0m\u001b[0m\n",
      "\u001b[0;32m/opt/anaconda3/lib/python3.7/site-packages/sklearn/ensemble/forest.py\u001b[0m in \u001b[0;36mpredict_proba\u001b[0;34m(self, X)\u001b[0m\n\u001b[1;32m    584\u001b[0m             \u001b[0mclasses\u001b[0m \u001b[0mcorresponds\u001b[0m \u001b[0mto\u001b[0m \u001b[0mthat\u001b[0m \u001b[0;32min\u001b[0m \u001b[0mthe\u001b[0m \u001b[0mattribute\u001b[0m\u001b[0;31m \u001b[0m\u001b[0;31m`\u001b[0m\u001b[0mclasses_\u001b[0m\u001b[0;31m`\u001b[0m\u001b[0;34m.\u001b[0m\u001b[0;34m\u001b[0m\u001b[0;34m\u001b[0m\u001b[0m\n\u001b[1;32m    585\u001b[0m         \"\"\"\n\u001b[0;32m--> 586\u001b[0;31m         \u001b[0mcheck_is_fitted\u001b[0m\u001b[0;34m(\u001b[0m\u001b[0mself\u001b[0m\u001b[0;34m,\u001b[0m \u001b[0;34m'estimators_'\u001b[0m\u001b[0;34m)\u001b[0m\u001b[0;34m\u001b[0m\u001b[0;34m\u001b[0m\u001b[0m\n\u001b[0m\u001b[1;32m    587\u001b[0m         \u001b[0;31m# Check data\u001b[0m\u001b[0;34m\u001b[0m\u001b[0;34m\u001b[0m\u001b[0;34m\u001b[0m\u001b[0m\n\u001b[1;32m    588\u001b[0m         \u001b[0mX\u001b[0m \u001b[0;34m=\u001b[0m \u001b[0mself\u001b[0m\u001b[0;34m.\u001b[0m\u001b[0m_validate_X_predict\u001b[0m\u001b[0;34m(\u001b[0m\u001b[0mX\u001b[0m\u001b[0;34m)\u001b[0m\u001b[0;34m\u001b[0m\u001b[0;34m\u001b[0m\u001b[0m\n",
      "\u001b[0;32m/opt/anaconda3/lib/python3.7/site-packages/sklearn/utils/validation.py\u001b[0m in \u001b[0;36mcheck_is_fitted\u001b[0;34m(estimator, attributes, msg, all_or_any)\u001b[0m\n\u001b[1;32m    906\u001b[0m \u001b[0;34m\u001b[0m\u001b[0m\n\u001b[1;32m    907\u001b[0m     \u001b[0;32mif\u001b[0m \u001b[0;32mnot\u001b[0m \u001b[0mhasattr\u001b[0m\u001b[0;34m(\u001b[0m\u001b[0mestimator\u001b[0m\u001b[0;34m,\u001b[0m \u001b[0;34m'fit'\u001b[0m\u001b[0;34m)\u001b[0m\u001b[0;34m:\u001b[0m\u001b[0;34m\u001b[0m\u001b[0;34m\u001b[0m\u001b[0m\n\u001b[0;32m--> 908\u001b[0;31m         \u001b[0;32mraise\u001b[0m \u001b[0mTypeError\u001b[0m\u001b[0;34m(\u001b[0m\u001b[0;34m\"%s is not an estimator instance.\"\u001b[0m \u001b[0;34m%\u001b[0m \u001b[0;34m(\u001b[0m\u001b[0mestimator\u001b[0m\u001b[0;34m)\u001b[0m\u001b[0;34m)\u001b[0m\u001b[0;34m\u001b[0m\u001b[0;34m\u001b[0m\u001b[0m\n\u001b[0m\u001b[1;32m    909\u001b[0m \u001b[0;34m\u001b[0m\u001b[0m\n\u001b[1;32m    910\u001b[0m     \u001b[0;32mif\u001b[0m \u001b[0;32mnot\u001b[0m \u001b[0misinstance\u001b[0m\u001b[0;34m(\u001b[0m\u001b[0mattributes\u001b[0m\u001b[0;34m,\u001b[0m \u001b[0;34m(\u001b[0m\u001b[0mlist\u001b[0m\u001b[0;34m,\u001b[0m \u001b[0mtuple\u001b[0m\u001b[0;34m)\u001b[0m\u001b[0;34m)\u001b[0m\u001b[0;34m:\u001b[0m\u001b[0;34m\u001b[0m\u001b[0;34m\u001b[0m\u001b[0m\n",
      "\u001b[0;31mTypeError\u001b[0m:            Time        V1        V2        V3        V4        V5        V6  \\\n36230  135341.0  2.019507 -0.436526 -0.434142  0.341014 -0.493798 -0.067753   \n31292  122610.0 -1.068988  1.147186 -0.037115  0.125389 -1.994099  0.140953   \n38741  141464.0  1.301883 -1.573653 -0.256848  1.325248 -1.005549  1.000905   \n48627  166145.0  2.046230 -1.822283 -0.569176 -1.593819 -1.581916 -0.172874   \n43329  152398.0  2.049048  0.070610 -1.796058  0.246929  0.558640 -0.422549   \n...         ...       ...       ...       ...       ...       ...       ...   \n29989  119352.0  1.846650 -0.304091 -1.254162  0.324091  0.506258  0.349983   \n4848    34635.0 -0.438536  0.876662  1.195829 -0.385667  0.505422  0.356092   \n14879   60163.0 -1.430366 -0.301424  1.541842 -1.805653 -1.218083  0.741315   \n36680  136485.0  2.062016  0.017803 -1.041502  0.409546 -0.064367 -1.196602   \n5139    35361.0 -2.925289  1.717306  1.552626  0.806877 -2.622149  1.439451   \n\n             V7        V8        V9  ...       V21       V22       V23  \\\n36230 -0.707457  0.040262  1.242845  ...  0.141767  0.612780  0.176545   \n31292  0.349462  0.763858  0.345331  ...  0.141700  0.332633  0.250442   \n38741 -0.913529  0.444849  1.424007  ...  0.434279  0.578240 -0.102163   \n48627 -1.373331  0.033917 -1.161672  ... -0.316304 -0.700425  0.327948   \n43329  0.049635 -0.050097  0.313745  ... -0.334006 -0.912166  0.301111   \n...         ...       ...       ...  ...       ...       ...       ...   \n29989  0.059334  0.060285  0.473247  ... -0.128911 -0.141383  0.338862   \n4848   0.460962  0.313553 -0.491074  ... -0.211727 -0.580189 -0.098574   \n14879 -0.187137  0.831152 -1.453665  ...  0.694480  1.551169  0.242085   \n36680  0.249097 -0.389192  0.398178  ... -0.277732 -0.620350  0.329841   \n5139  -2.710608 -0.503682 -0.371312  ...  1.911840 -1.060340  0.186262   \n\n            V24       V25       V26       V27       V28  Amount  Class  \n36230  0.637765 -0.228368  0.544869 -0.022532 -0.042002    5.92      0  \n31292 -0.124695 -1.289771  0.103359 -0.114645  0.052508  245.90      0  \n38741  0.139848 -0.425651 -0.635094  0.015543  0.026336  322.00      0  \n48627 -0.541054 -0.650498 -0.482843  0.015904 -0.032814  113.90      0  \n43329  0.219783 -0.268750  0.171098 -0.069574 -0.044018    1.98      0  \n...         ...       ...       ...       ...       ...     ...    ...  \n29989 -0.929406 -0.424661  0.363736 -0.023155 -0.066140   41.86      0  \n4848  -0.847851 -0.211641  0.137218  0.272144  0.097363    3.08      0  \n14879 -0.253779  0.072771 -0.148210  0.191527  0.083472  198.00      0  \n36680  0.072127 -0.267749  0.192204 -0.064594 -0.057790    1.98      0  \n5139   0.285835  0.482487 -0.062089  0.407516  0.074829   20.00      0  \n\n[37869 rows x 31 columns] is not an estimator instance."
     ]
    }
   ],
   "source": [
    "# metrics\n",
    "\n",
    "y_true =  list(y_test)\n",
    "y_pred = list(RandomForestClassifier.predict_proba(X,X_test)) # predicciones con random forest\n",
    "\n",
    "\n",
    "print('\\nMatriz de confusion:\\n ')\n",
    "print(confusion_matrix(y_true,y_pred))\n",
    "\n",
    "print('\\nMetricas:\\n ')\n",
    "print('accuracy:   ',accuracy_score(y_true,y_pred))\n",
    "print('recall:     ',recall_score(y_true,y_pred))\n",
    "print('precision:  ',precision_score(y_true,y_pred))\n",
    "print('f-score:    ',f1_score(y_true,y_pred))\n",
    "print(\"\")"
   ]
  },
  {
   "cell_type": "markdown",
   "metadata": {},
   "source": [
    "### 3. Técnicas de remuestreo: sobremuestreo de clase minoritaria\n",
    "\n",
    "El tercer paso es ocupar ténicas de remuestreo, pero sobre la clase minoritaria. Esto significa que mediantes ténicas de remuestreo trataremos de equiparar el número de elementos de la clase minoritaria a la clase mayoritaria."
   ]
  },
  {
   "cell_type": "code",
   "execution_count": 15,
   "metadata": {},
   "outputs": [
    {
     "data": {
      "text/plain": [
       "1    37513\n",
       "0    37513\n",
       "Name: Class, dtype: int64"
      ]
     },
     "execution_count": 15,
     "metadata": {},
     "output_type": "execute_result"
    }
   ],
   "source": [
    "from sklearn.utils import resample\n",
    "\n",
    "# concatenar el conjunto de entrenamiento\n",
    "X = pd.concat([X_train, y_train], axis=1)\n",
    "\n",
    "# separar las clases\n",
    "not_fraud = X[X.Class==0]\n",
    "fraud = X[X.Class==1]\n",
    "\n",
    "# remuestrear  clase minoritaria\n",
    "fraud_upsampled = resample(fraud,\n",
    "                          replace=True, # sample with replacement\n",
    "                          n_samples=len(not_fraud), # match number in majority class\n",
    "                          random_state=27) # reproducible results\n",
    "\n",
    "# recombinar resultados\n",
    "upsampled = pd.concat([not_fraud, fraud_upsampled])\n",
    "\n",
    "# chequear el número de elementos por clases\n",
    "upsampled.Class.value_counts()"
   ]
  },
  {
   "cell_type": "code",
   "execution_count": 16,
   "metadata": {},
   "outputs": [],
   "source": [
    "# datos de entrenamiento sobre-balanceados\n",
    "y_train = upsampled.Class\n",
    "X_train = upsampled.drop('Class', axis=1)"
   ]
  },
  {
   "cell_type": "markdown",
   "metadata": {},
   "source": [
    "Ocupando estos nuevos conjunto de entrenamientos, vuelva a aplicar el modelos de regresión logística y calcule las correspondientes métricas. Además, justifique las ventajas y desventjas de este procedimiento."
   ]
  },
  {
   "cell_type": "code",
   "execution_count": 18,
   "metadata": {},
   "outputs": [
    {
     "ename": "AttributeError",
     "evalue": "'NoneType' object has no attribute 'predict_proba'",
     "output_type": "error",
     "traceback": [
      "\u001b[0;31m---------------------------------------------------------------------------\u001b[0m",
      "\u001b[0;31mAttributeError\u001b[0m                            Traceback (most recent call last)",
      "\u001b[0;32m<ipython-input-18-cbb9bb0abf17>\u001b[0m in \u001b[0;36m<module>\u001b[0;34m\u001b[0m\n\u001b[1;32m      4\u001b[0m \u001b[0;34m\u001b[0m\u001b[0m\n\u001b[1;32m      5\u001b[0m \u001b[0my_true\u001b[0m \u001b[0;34m=\u001b[0m  \u001b[0mlist\u001b[0m\u001b[0;34m(\u001b[0m\u001b[0my_test\u001b[0m\u001b[0;34m)\u001b[0m\u001b[0;34m\u001b[0m\u001b[0;34m\u001b[0m\u001b[0m\n\u001b[0;32m----> 6\u001b[0;31m \u001b[0my_pred\u001b[0m \u001b[0;34m=\u001b[0m \u001b[0mlist\u001b[0m\u001b[0;34m(\u001b[0m\u001b[0mupsampled\u001b[0m\u001b[0;34m.\u001b[0m\u001b[0mpredict_proba\u001b[0m\u001b[0;34m(\u001b[0m\u001b[0mX_test\u001b[0m\u001b[0;34m)\u001b[0m\u001b[0;34m)\u001b[0m\u001b[0;34m\u001b[0m\u001b[0;34m\u001b[0m\u001b[0m\n\u001b[0m\u001b[1;32m      7\u001b[0m \u001b[0;34m\u001b[0m\u001b[0m\n\u001b[1;32m      8\u001b[0m \u001b[0;34m\u001b[0m\u001b[0m\n",
      "\u001b[0;31mAttributeError\u001b[0m: 'NoneType' object has no attribute 'predict_proba'"
     ]
    }
   ],
   "source": [
    "upsampled = None # algoritmo de regresion logistica\n",
    "\n",
    "# metrics\n",
    "\n",
    "y_true =  list(y_test)\n",
    "y_pred = list(upsampled.predict_proba(X_test))\n",
    "\n",
    "\n",
    "print('\\nMatriz de confusion:\\n ')\n",
    "print(confusion_matrix(y_true,y_pred))\n",
    "\n",
    "print('\\nMetricas:\\n ')\n",
    "print('accuracy:   ',accuracy_score(y_true,y_pred))\n",
    "print('recall:     ',recall_score(y_true,y_pred))\n",
    "print('precision:  ',precision_score(y_true,y_pred))\n",
    "print('f-score:    ',f1_score(y_true,y_pred))\n",
    "print(\"\")"
   ]
  },
  {
   "cell_type": "markdown",
   "metadata": {},
   "source": [
    "### 4. Técnicas de remuestreo - Ejemplo de clase mayoritaria\n",
    "\n",
    "El cuarto paso es ocupar ténicas de remuestreo, pero sobre la clase mayoritaria. Esto significa que mediantes ténicas de remuestreo trataremos de equiparar el número de elementos de la clase mayoritaria  a la clase minoritaria."
   ]
  },
  {
   "cell_type": "code",
   "execution_count": 19,
   "metadata": {},
   "outputs": [
    {
     "data": {
      "text/plain": [
       "1    37513\n",
       "0    37513\n",
       "Name: Class, dtype: int64"
      ]
     },
     "execution_count": 19,
     "metadata": {},
     "output_type": "execute_result"
    }
   ],
   "source": [
    "# remuestreo clase mayoritaria\n",
    "not_fraud_downsampled = resample(not_fraud,\n",
    "                                replace = False, # sample without replacement\n",
    "                                n_samples = len(fraud), # match minority n\n",
    "                                random_state = 27) # reproducible results\n",
    "\n",
    "# recombinar resultados\n",
    "downsampled = pd.concat([not_fraud_downsampled, fraud])\n",
    "\n",
    "# chequear el número de elementos por clases\n",
    "downsampled.Class.value_counts()"
   ]
  },
  {
   "cell_type": "code",
   "execution_count": 20,
   "metadata": {},
   "outputs": [],
   "source": [
    "# datos de entrenamiento sub-balanceados\n",
    "\n",
    "y_train = downsampled.Class\n",
    "X_train = downsampled.drop('Class', axis=1)"
   ]
  },
  {
   "cell_type": "markdown",
   "metadata": {},
   "source": [
    "Ocupando estos nuevos conjunto de entrenamientos, vuelva a aplicar el modelos de regresión logística y calcule las correspondientes métricas. Además, justifique las ventajas y desventjas de este procedimiento."
   ]
  },
  {
   "cell_type": "code",
   "execution_count": 22,
   "metadata": {},
   "outputs": [
    {
     "ename": "AttributeError",
     "evalue": "'NoneType' object has no attribute 'predict_proba'",
     "output_type": "error",
     "traceback": [
      "\u001b[0;31m---------------------------------------------------------------------------\u001b[0m",
      "\u001b[0;31mAttributeError\u001b[0m                            Traceback (most recent call last)",
      "\u001b[0;32m<ipython-input-22-7426b5f7547e>\u001b[0m in \u001b[0;36m<module>\u001b[0;34m\u001b[0m\n\u001b[1;32m      4\u001b[0m \u001b[0;34m\u001b[0m\u001b[0m\n\u001b[1;32m      5\u001b[0m \u001b[0my_true\u001b[0m \u001b[0;34m=\u001b[0m  \u001b[0mlist\u001b[0m\u001b[0;34m(\u001b[0m\u001b[0my_test\u001b[0m\u001b[0;34m)\u001b[0m\u001b[0;34m\u001b[0m\u001b[0;34m\u001b[0m\u001b[0m\n\u001b[0;32m----> 6\u001b[0;31m \u001b[0my_pred\u001b[0m \u001b[0;34m=\u001b[0m \u001b[0mlist\u001b[0m\u001b[0;34m(\u001b[0m\u001b[0mundersampled\u001b[0m\u001b[0;34m.\u001b[0m\u001b[0mpredict_proba\u001b[0m\u001b[0;34m(\u001b[0m\u001b[0mX_test\u001b[0m\u001b[0;34m)\u001b[0m\u001b[0;34m)\u001b[0m\u001b[0;34m\u001b[0m\u001b[0;34m\u001b[0m\u001b[0m\n\u001b[0m\u001b[1;32m      7\u001b[0m \u001b[0;34m\u001b[0m\u001b[0m\n\u001b[1;32m      8\u001b[0m \u001b[0;34m\u001b[0m\u001b[0m\n",
      "\u001b[0;31mAttributeError\u001b[0m: 'NoneType' object has no attribute 'predict_proba'"
     ]
    }
   ],
   "source": [
    "\n",
    "# datos \n",
    "from sklearn.linear_model import LogisticRegression\n",
    "\n",
    "X = iris_df[['sepal length (cm)', 'sepal width (cm)']]\n",
    "Y = iris_df['TARGET']\n",
    "\n",
    "# split dataset\n",
    "X_train, X_test, Y_train, Y_test = train_test_split(X, Y, test_size=0.2, random_state = 2) \n",
    "\n",
    "\n",
    "\n",
    "\n",
    "\n",
    "\n",
    "# datos \n",
    "from sklearn.linear_model import LogisticRegression\n",
    "\n",
    "X = iris_df[['sepal length (cm)', 'sepal width (cm)']]\n",
    "Y = iris_df['TARGET']\n",
    "\n",
    "# split dataset\n",
    "X_train, X_test, Y_train, Y_test = train_test_split(X, Y, test_size=0.2, random_state = 2) undersampled = None # modelo de regresi+on logística\n",
    "\n",
    "# metrics\n",
    "\n",
    "y_true =  list(y_test)\n",
    "y_pred = list(undersampled.predict(X_test))\n",
    "\n",
    "\n",
    "print('\\nMatriz de confusion:\\n ')\n",
    "print(confusion_matrix(y_true,y_pred))\n",
    "\n",
    "print('\\nMetricas:\\n ')\n",
    "print('accuracy:   ',accuracy_score(y_true,y_pred))\n",
    "print('recall:     ',recall_score(y_true,y_pred))\n",
    "print('precision:  ',precision_score(y_true,y_pred))\n",
    "print('f-score:    ',f1_score(y_true,y_pred))\n",
    "print(\"\")"
   ]
  },
  {
   "cell_type": "markdown",
   "metadata": {},
   "source": [
    "### 5. Conclusiones\n",
    "\n",
    "Para finalizar el laboratorio, debe realizar un análisis comparativo con los disintos resultados obtenidos  en los pasos 1-4. Saque sus propias conclusiones del caso."
   ]
  }
 ],
 "metadata": {
  "kernelspec": {
   "display_name": "Python 3",
   "language": "python",
   "name": "python3"
  },
  "language_info": {
   "codemirror_mode": {
    "name": "ipython",
    "version": 3
   },
   "file_extension": ".py",
   "mimetype": "text/x-python",
   "name": "python",
   "nbconvert_exporter": "python",
   "pygments_lexer": "ipython3",
   "version": "3.7.4"
  }
 },
 "nbformat": 4,
 "nbformat_minor": 4
}
