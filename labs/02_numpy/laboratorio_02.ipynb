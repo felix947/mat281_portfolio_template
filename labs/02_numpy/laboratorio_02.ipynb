{
 "cells": [
  {
   "cell_type": "markdown",
   "metadata": {},
   "source": [
    "<img src=\"images/usm.jpg\" width=\"480\" height=\"240\" align=\"left\"/>"
   ]
  },
  {
   "cell_type": "markdown",
   "metadata": {},
   "source": [
    "# MAT281 - Laboratorio N°02\n",
    "\n",
    "## Objetivos de la clase\n",
    "\n",
    "* Reforzar los conceptos básicos de numpy."
   ]
  },
  {
   "cell_type": "markdown",
   "metadata": {},
   "source": [
    "## Contenidos\n",
    "\n",
    "* [Problema 01](#p1)\n",
    "* [Problema 02](#p2)\n",
    "* [Problema 03](#p3)"
   ]
  },
  {
   "cell_type": "markdown",
   "metadata": {},
   "source": [
    "<a id='p1'></a>\n",
    "\n",
    "## Problema 01\n",
    "\n",
    "Una **media móvil simple** (SMA) es el promedio de los últimos $k$ datos anteriores, es decir, sea $a_1$,$a_2$,...,$a_n$ un arreglo $n$-dimensional, entonces la SMA se define por:\n",
    "\n",
    "$$sma(k) =\\dfrac{1}{k}(a_{n}+a_{n-1}+...+a_{n-(k-1)}) = \\dfrac{1}{k}\\sum_{i=0}^{k-1}a_{n-i}  $$ \n",
    "\n",
    "\n",
    "Por otro lado podemos definir el SMA con una venta móvil de $n$ si el resultado nos retorna la el promedio ponderado avanzando de la siguiente forma:\n",
    "\n",
    "* $a = [1,2,3,4,5]$, la SMA con una ventana de $n=2$ sería:\n",
    "\n",
    "\n",
    "    * sma(2): [mean(1,2),mean(2,3),mean(3,4)] = [1.5, 2.5, 3.5, 4.5]\n",
    "    * sma(3): [mean(1,2,3),mean(2,3,4),mean(3,4,5)] = [2.,3.,4.]\n",
    "\n",
    "\n",
    "Implemente una función llamada `sma` cuyo input sea un arreglo unidimensional $a$ y un entero $n$, y cuyo ouput retorne el valor de la media móvil simple sobre el arreglo de la siguiente forma:\n",
    "\n",
    "* **Ejemplo**: *sma([5,3,8,10,2,1,5,1,0,2], 2)* = $[4. , 5.5, 9. , 6. , 1.5, 3. , 3. , 0.5, 1. ]$\n",
    "\n",
    "En este caso, se esta calculando el SMA para un arreglo con una ventana de $n=2$.\n",
    "\n",
    "**Hint**: utilice la función `numpy.cumsum`"
   ]
  },
  {
   "cell_type": "code",
   "execution_count": 1,
   "metadata": {},
   "outputs": [],
   "source": [
    "import numpy as np\n",
    "def sma(a:np.array,window_len:int)->np.array:\n",
    "    \"\"\"sma(a,n)\n",
    "        Entrega una lista la cual contiene la media movil simple de los n datos anteriores\n",
    "        Parametros:\n",
    "        a:np.array \n",
    "            Vector que contiene los elementos que se van a promediar\n",
    "        n:int \n",
    "            Ventana del promedio\n",
    "        Returns\n",
    "        np.array \n",
    "            Vector que contiene los promedios\"\"\"\n",
    "    sma=np.zeros(len(a)-1)                                                            #crea un arreglo de largo igual al largo del arreglo a menos 1\n",
    "    for i in range(window_len,len(a)):                                                #se itera desde n hasta el largo del arreglo menos 1\n",
    "        if i==window_len:                                                             #si es la primera iteracion\n",
    "            sma[0]=np.cumsum(a)[i-1]/window_len                                       #entonces se promedia usualmente\n",
    "        sma[i-window_len+1]=(np.cumsum(a)[i]-np.cumsum(a)[i-window_len])/window_len   #se promedian los ultimos n numeros\n",
    "    return sma                                                                        #se retorna la lista con los promedios\n",
    "\n",
    "    "
   ]
  },
  {
   "cell_type": "code",
   "execution_count": 291,
   "metadata": {},
   "outputs": [
    {
     "data": {
      "text/plain": [
       "array([1.5, 2.5, 3.5, 4.5])"
      ]
     },
     "execution_count": 291,
     "metadata": {},
     "output_type": "execute_result"
    }
   ],
   "source": [
    "# ejemplo 01\n",
    "a = [1,2,3,4,5]\n",
    "sma(a,2)"
   ]
  },
  {
   "cell_type": "code",
   "execution_count": 287,
   "metadata": {},
   "outputs": [
    {
     "data": {
      "text/plain": [
       "array([4. , 5.5, 9. , 6. , 1.5, 3. , 3. , 0.5, 1. ])"
      ]
     },
     "execution_count": 287,
     "metadata": {},
     "output_type": "execute_result"
    }
   ],
   "source": [
    "# ejemplo 02\n",
    "a = [5,3,8,10,2,1,5,1,0,2]\n",
    "sma(a,2)"
   ]
  },
  {
   "cell_type": "markdown",
   "metadata": {},
   "source": [
    "<a id='p2'></a>\n",
    "\n",
    "## Problema 02\n",
    "\n",
    "La función **strides($a,n,p$)**, corresponde a transformar un arreglo unidimensional $a$ en una matriz de $n$ columnas, en el cual las filas se van construyendo desfasando la posición del arreglo en $p$ pasos hacia adelante.\n",
    "\n",
    "* Para el arreglo unidimensional $a$ = [ 1,  2,  3,  4,  5,  6,  7,  8,  9, 10], la función strides($a,4,2$), corresponde a crear una matriz de $4$ columnas, cuyos desfaces hacia adelante se hacen de dos en dos. \n",
    "\n",
    "El resultado tendría que ser algo así:$$\\begin{pmatrix}\n",
    " 1& 2 &3 &4 \\\\ \n",
    " 3&  4&5&6 \\\\ \n",
    " 5& 6 &7 &8 \\\\ \n",
    " 7& 8 &9 &10 \\\\ \n",
    "\\end{pmatrix}$$\n",
    "\n",
    "\n",
    "Implemente una función llamada `strides(a,4,2)` cuyo input sea un arreglo unidimensional y retorne la matriz de $4$ columnas, cuyos desfaces hacia adelante se hacen de dos en dos. \n",
    "\n",
    "* **Ejemplo**: *strides($a$,4,2)* =$\\begin{pmatrix}\n",
    " 1& 2 &3 &4 \\\\ \n",
    " 3&  4&5&6 \\\\ \n",
    " 5& 6 &7 &8 \\\\ \n",
    " 7& 8 &9 &10 \\\\ \n",
    "\\end{pmatrix}$\n"
   ]
  },
  {
   "cell_type": "code",
   "execution_count": 260,
   "metadata": {},
   "outputs": [],
   "source": [
    "import numpy as np\n",
    "def strides(a:np.array,n:int,p:int)->np.array:\n",
    "    \"\"\"strides(a,n,p)\n",
    "        Entrega una matriz con los valores del arreglo desfasados en p terminos por n^2 filas\n",
    "        Parametros:\n",
    "        a:np.array \n",
    "            Vector que se ocupara para construir la matriz\n",
    "        n:int \n",
    "            Numero de columnas que tendra la matriz\n",
    "        p:int \n",
    "            Natural que indica el desfase que tengra el Arreglo a en la matriz\n",
    "        Returns\n",
    "        np.array \n",
    "            Matriz que tendra los valores del arreglo desfasados en p terminos\"\"\"\n",
    "    if p>=n:\n",
    "        return \"El valor de p debe ser menor que el numero de columas\"\n",
    "    dimension_filas=p**2\n",
    "    strides=np.array(np.zeros((dimension_filas,n)))                 #se define la matriz con las dimensiones necesarias\n",
    "    cont=0                                                          #se define un contador\n",
    "    for i in range(0,dimension_filas):                              #se itera sobre la dimension de las filas\n",
    "        for j in range(0,n):                                        #se itera sobre la dimension de las columnas\n",
    "            if i==0:                                                #si es la primera fila \n",
    "                strides[0,j]=a[j]                                   #entonces se deja igual el arreglo\n",
    "                cont+=1                                             #se incrementa el contador\n",
    "            elif (cont-i*p)>=(len(a)):                              #si el indice se pasa del largo del arreglo\n",
    "                strides[i,j]=0                                      #escribir 0\n",
    "                cont+=1                   \n",
    "                return strides                                      #se retorna la matriz\n",
    "            else:                                                   #sino\n",
    "                strides[i,j]=a[cont-i*p]                            #se agrega el arreglo con un desfase de p terminos \n",
    "                cont+=1                                             #se incrementa el contador\n",
    "    return strides"
   ]
  },
  {
   "cell_type": "code",
   "execution_count": 288,
   "metadata": {},
   "outputs": [
    {
     "data": {
      "text/plain": [
       "array([[ 1.,  2.,  3.,  4.],\n",
       "       [ 3.,  4.,  5.,  6.],\n",
       "       [ 5.,  6.,  7.,  8.],\n",
       "       [ 7.,  8.,  9., 10.]])"
      ]
     },
     "execution_count": 288,
     "metadata": {},
     "output_type": "execute_result"
    }
   ],
   "source": [
    "# ejemplo 01\n",
    "a = np.array([ 1,  2,  3,  4,  5,  6,  7,  8,  9, 10])\n",
    "strides(a,4,2)"
   ]
  },
  {
   "cell_type": "markdown",
   "metadata": {},
   "source": [
    "<a id='p3'></a>\n",
    "\n",
    "## Problema 03\n",
    "\n",
    "\n",
    "Un **cuadrado mágico** es una matriz de tamaño $n \\times n$ de números enteros positivos tal que \n",
    "la suma de los números por columnas, filas y diagonales principales sea la misma. Usualmente, los números empleados para rellenar las casillas son consecutivos, de 1 a $n^2$, siendo $n$ el número de columnas y filas del cuadrado mágico.\n",
    "\n",
    "Si los números son consecutivos de 1 a $n^2$, la suma de los números por columnas, filas y diagonales principales \n",
    "es igual a : $$M_{n} = \\dfrac{n(n^2+1)}{2}$$\n",
    "Por ejemplo, \n",
    "\n",
    "* $A= \\begin{pmatrix}\n",
    " 4& 9 &2 \\\\ \n",
    " 3&  5&7 \\\\ \n",
    " 8& 1 &6 \n",
    "\\end{pmatrix}$,\n",
    "es un cuadrado mágico.\n",
    "\n",
    "* $B= \\begin{pmatrix}\n",
    " 4& 2 &9 \\\\ \n",
    " 3&  5&7 \\\\ \n",
    " 8& 1 &6 \n",
    "\\end{pmatrix}$, no es un cuadrado mágico.\n",
    "\n",
    "Implemente una función llamada `es_cudrado_magico` cuyo input sea una matriz cuadrada de tamaño $n$ con números consecutivos de $1$ a $n^2$ y cuyo ouput retorne *True* si es un cuadrado mágico o 'False', en caso contrario\n",
    "\n",
    "* **Ejemplo**: *es_cudrado_magico($A$)* = True, *es_cudrado_magico($B$)* = False\n",
    "\n",
    "**Hint**: Cree una función que valide la mariz es cuadrada y  que sus números son consecutivos del 1 a $n^2$."
   ]
  },
  {
   "cell_type": "code",
   "execution_count": 283,
   "metadata": {},
   "outputs": [],
   "source": [
    "import numpy as np\n",
    "def es_cuadrada_numeros_consecutivos(A:np.array)->bool:\n",
    "    \"\"\"es_cuadrada_numeros_consecutivos\n",
    "        Verifica si la matriz es cuadrada y tambien verifica si los numeros que contiene son consecutivos\n",
    "        Parametros:\n",
    "        A:np.array \n",
    "            Matriz a verificar\n",
    "        Returns\n",
    "        bool \n",
    "            True si cumple, False si no\"\"\"\n",
    "    dim_filas=len(A[:,1])                                            #se define la dimension de las filas\n",
    "    dim_columnas=len(A[1,:])                                         #se define la dimension de las columnas\n",
    "    if dim_filas==dim_columnas:                                      #si es cuadrada\n",
    "        dim=len(A)                                                   #se define la dimension de la matriz\n",
    "        lista_numeros_consecutivos_A=[]                              #se crea una lista vacia que tendra los numeros consecutivos\n",
    "        for k in range(1,dim**2+1):                                  #se itera sobre la dimension al cuadrado de la matriz\n",
    "            for i in range(0,dim):                                   #se itera sobre la dimension de las filas\n",
    "                for j in range(0,dim):                               #se itera sobre la dimension de las columnas\n",
    "                    if A[i,j]==k:                                    #si algun elemento de la matriz es el numero k \n",
    "                        lista_numeros_consecutivos_A.append(A[i,j])  #entonces se agrega a la lista de numeros consecutivos\n",
    "        if len(lista_numeros_consecutivos_A)==dim**2:                #si la lista tiene todos los numeros consecutivos\n",
    "            return True                                              #retorna True\n",
    "        else:\n",
    "            return False                                             #sino False\n",
    "    else:                                                            #sino es cuadrada retorna False\n",
    "        return False\n",
    "def es_cuadrado_magico(A:np.array)->bool:\n",
    "    \"\"\"es_cuadrado_magico(A)\n",
    "        Verifica si la matriz A es cuadrado magico\n",
    "        Parametros:\n",
    "        A:np.array \n",
    "            Matriz a verificar\n",
    "        Returns\n",
    "        bool\n",
    "            True si es cuadrado magico, False si no\"\"\"\n",
    "    if es_cuadrada_numeros_consecutivos(A)==True:          #pregunta si la matriz es cuadrada y tiene numeros consecutivos\n",
    "        suma_filas=[]                                      #se crea una lista vacia que tendra la suma de las filas\n",
    "        suma_columnas=[]                                   #se crea una lista vacia que tendra la suma de las columnas\n",
    "        suma_diagonales=[]                                 #se crea una lista vacia que tendra la suma de las diagonales\n",
    "        elementos_diagonal_1=[]                            #se crea una lista vacia que tendra elementos de la diagonal 1\n",
    "        elementos_diagonal_2=[]                            #se crea una lista vacia que tendra elementos de la diagonal 2\n",
    "        dim=len(A)                                         #es la dimension de la matriz\n",
    "        for j in range(0,dim):                             #se itera sobre las filas\n",
    "            suma_filas.append(sum(A[:,j]))                 #se agrega la suma de la iesima fila\n",
    "        for i in range(0,dim):                             #se itera sobre las columnas\n",
    "            suma_columnas.append(sum(A[i,:]))              #se agrega la suma de la jesima columna\n",
    "        for m in range(0,dim):                             #se itera sobre la diagonal\n",
    "            elementos_diagonal_1.append(A[m,m])            #se agregan los elementos de la diagonal 1\n",
    "            elementos_diagonal_2.append(A[m,dim-1-m])      #se agregan los elementos de la diagonal 2\n",
    "        suma_diagonales.append(sum(elementos_diagonal_1))  #se agrega la suma de los elementos de la diagonal 1\n",
    "        suma_diagonales.append(sum(elementos_diagonal_2))  #se agrega la suma de los elementos de la diagonal 2\n",
    "        if suma_filas==suma_columnas:                      #si las listas de las sumas de las filas y columnas son iguales\n",
    "            if suma_diagonales[0]==suma_diagonales[1]:     #si la suma de ambas diagonales es igual\n",
    "                if suma_filas[0]==suma_diagonales[0]:      #si la suma de las filas y columnas es igual a la de las diagonales\n",
    "                    return True                            #retorna True\n",
    "                else:\n",
    "                    return False                           #sino False\n",
    "        else:\n",
    "            return False\n",
    "                "
   ]
  },
  {
   "cell_type": "code",
   "execution_count": 289,
   "metadata": {},
   "outputs": [
    {
     "data": {
      "text/plain": [
       "True"
      ]
     },
     "execution_count": 289,
     "metadata": {},
     "output_type": "execute_result"
    }
   ],
   "source": [
    "# ejemplo 01\n",
    "A=np.array([[4,9,2],[3,5,7],[8,1,6]])\n",
    "es_cuadrado_magico(A)"
   ]
  },
  {
   "cell_type": "code",
   "execution_count": 290,
   "metadata": {},
   "outputs": [
    {
     "data": {
      "text/plain": [
       "False"
      ]
     },
     "execution_count": 290,
     "metadata": {},
     "output_type": "execute_result"
    }
   ],
   "source": [
    "#ejemplo 02\n",
    "B = np.array([[4,2,9],[3,5,7],[8,1,6]])\n",
    "es_cuadrado_magico(B)"
   ]
  }
 ],
 "metadata": {
  "kernelspec": {
   "display_name": "Python 3",
   "language": "python",
   "name": "python3"
  },
  "language_info": {
   "codemirror_mode": {
    "name": "ipython",
    "version": 3
   },
   "file_extension": ".py",
   "mimetype": "text/x-python",
   "name": "python",
   "nbconvert_exporter": "python",
   "pygments_lexer": "ipython3",
   "version": "3.7.8"
  }
 },
 "nbformat": 4,
 "nbformat_minor": 4
}
